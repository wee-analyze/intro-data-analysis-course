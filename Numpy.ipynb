{
 "cells": [
  {
   "cell_type": "markdown",
   "metadata": {},
   "source": [
    "# Numpy"
   ]
  },
  {
   "cell_type": "markdown",
   "metadata": {},
   "source": [
    "Differences between Numpy and Python lists are that all elements should have the same type (sting, int, boolean, etc). All data types should be of the same type for numpy. If you have different types of data in 2 dimensions you want to use pandas dataframes like in machine learning\n",
    "\n",
    "You can convert panda dataframes into numpy arrays containing only the values of the pandas dataframe using .values. (have to be careful with your datatypes though). You might want to do this to take the mean of all the data points instead of just one column which is what would happen in pandas.\n",
    "\n",
    "Has vector arrays. Lists of numbers IT\n",
    "\n",
    "convenient functions such as\n",
    "mean()\n",
    "std()\n",
    "max()\n",
    "min()\n",
    "\n",
    "you can find locations, or known as index or i, of values using\n",
    "argmax()\n",
    "argmin()"
   ]
  },
  {
   "cell_type": "code",
   "execution_count": null,
   "metadata": {},
   "outputs": [],
   "source": [
    "# example\n",
    "\n",
    "import numpy as np\n",
    "\n",
    "people = np.array([\"joe\", \"bob\", \"jane\", \"Julie\", \"Anders\"])\n",
    "salaries = np.array([20.3, 20.2, 130.67, 10.345, 50.2])\n",
    "\n",
    "# find and show person with highest salary without making lists\n",
    "i = salaries.argmax()\n",
    "\n",
    "print (people[i], salaries[i])\n",
    "\n",
    "# if it doesn't work you can make lists like below\n",
    "people = np.array([\"joe\", \"bob\", \"jane\", \"Julie\", \"Anders\"])\n",
    "salaries = np.array([20.3, 20.2, 130.67, 10.345, 50.2])\n",
    "\n",
    "max_person = None\n",
    "max_salary = 0\n",
    "\n",
    "for i in range(len(people)):\n",
    "    person = people[i]\n",
    "    salary = salaries[i]\n",
    "    if salary > max_salary:\n",
    "        max_person = person\n",
    "        max_salary = salary\n",
    "        \n",
    "print(max_person, max_salary)"
   ]
  },
  {
   "cell_type": "markdown",
   "metadata": {},
   "source": [
    "# Index arrays"
   ]
  },
  {
   "cell_type": "markdown",
   "metadata": {},
   "source": [
    "you can use this to do a kind of do a type of \"slicing\" of index selecting\n",
    "if you have arrays of the same length."
   ]
  },
  {
   "cell_type": "code",
   "execution_count": null,
   "metadata": {},
   "outputs": [],
   "source": [
    "import numpy as np\n",
    "\n",
    "# Creating the index array using vectorized operations\n",
    "if True:\n",
    "    a = np.array([1, 2, 3, 2, 1])\n",
    "    b = (a >= 2)\n",
    "    \n",
    "    print a[b]\n",
    "    print a[a >= 2]\n",
    "    \n",
    "# Creating the index array using vectorized operations on another array\n",
    "if True:\n",
    "    a = np.array([1, 2, 3, 4, 5])\n",
    "    b = np.array([1, 2, 3, 2, 1])\n",
    "    \n",
    "    print b == 2\n",
    "    print a[b == 2]\n",
    "    \n",
    "# Using index arrays\n",
    "if True:\n",
    "    a = np.array([1, 2, 3, 4])\n",
    "    b = np.array([True, True, False, False])\n",
    "    \n",
    "    print a[b]\n",
    "    print a[np.array([True, False, True, False])]"
   ]
  },
  {
   "cell_type": "code",
   "execution_count": null,
   "metadata": {},
   "outputs": [],
   "source": [
    "# example\n",
    "\n",
    "import numpy as np\n",
    "\n",
    "time_spent = np.array([\n",
    "       12.89697233,    0.       ,   64.55043217,    0.        ,\n",
    "       24.2315615\n",
    "])\n",
    "\n",
    "days_to_cancel = np.array([\n",
    "      4,   5,  37,   3,  12\n",
    "])\n",
    "\n",
    "def mean_time_for_paid_students(time_spent, days_to_cancel):\n",
    "    '''calculate meann of students who have a days_to_cancel greater than 7'''\n",
    "    return time_spent[days_to_cancel > 7].mean()\n",
    "\n",
    "\n",
    "mean_time_for_paid_students(time_spent, days_to_cancel)"
   ]
  },
  {
   "cell_type": "code",
   "execution_count": null,
   "metadata": {},
   "outputs": [],
   "source": [
    "# + vs +=\n",
    "\n",
    "# when you see += all variables are getting modified. \n",
    "import numpy as np\n",
    "\n",
    "a = np.array([1,2,3])\n",
    "b = a\n",
    "a += np.array([1,1,1])\n",
    "print b\n",
    "\n",
    "# when you use only + all variables do NOT get modified\n",
    "a = np.array([1,2,3])\n",
    "b = a\n",
    "a = a + np.array([1,1,1])\n",
    "print b"
   ]
  },
  {
   "cell_type": "markdown",
   "metadata": {},
   "source": [
    "# Logical Operations"
   ]
  },
  {
   "cell_type": "code",
   "execution_count": null,
   "metadata": {
    "collapsed": true
   },
   "outputs": [],
   "source": [
    "# make sure your arrays containg booleans. If not use parenthesis IT\n",
    "# And: &\n",
    "# Or: | (underneath the delete the delete key)\n",
    "# Not: ~\n",
    "\n",
    "# You also have to use parenthesis because those operations are higher \n",
    "# in the operations order\n",
    "variable = (x > y) & (z > p)\n",
    "\n",
    "# if you want to do them on interger vectors then you\n",
    "# want to use np.logical_and(x, y)\n",
    "\n",
    "# also better to use decimals in operation because Python will drop the other \n",
    "# decibal numbers if you just use integers. \n",
    "# 2.5 / 2 = 1\n",
    "# 2.5 / 2. = 1.5"
   ]
  },
  {
   "cell_type": "markdown",
   "metadata": {},
   "source": [
    "# 2D arrays"
   ]
  },
  {
   "cell_type": "code",
   "execution_count": null,
   "metadata": {},
   "outputs": [],
   "source": [
    "#accessing elements is different\n",
    "import numpy as np\n",
    "\n",
    "a = np.array([\n",
    "    [   0,    0,    2,    5,    0],\n",
    "    [1478, 3877, 3674, 2328, 2539],\n",
    "    [1613, 4088, 3991, 6461, 2691],\n",
    "    [1560, 3392, 3826, 4787, 2613],\n",
    "    [1608, 4802, 3932, 4477, 2705]\n",
    "])\n",
    "\n",
    "if False:\n",
    "    print a[1,3] # access data element at row 1 and column 3 and is not written a[1][3]\n",
    "    print a[1:3, 3:5]\n",
    "    print a[1, :]\n",
    "\n",
    "# vectorized operations on rows or columns\n",
    "if False:\n",
    "    print a[0, :] + a[1, :]\n",
    "    print a[:, 0] + a[:, 1]\n",
    "    \n",
    "\n",
    "# mean(), std() # gets performed on entire array"
   ]
  },
  {
   "cell_type": "markdown",
   "metadata": {},
   "source": [
    "# Operation along axis "
   ]
  },
  {
   "cell_type": "markdown",
   "metadata": {},
   "source": [
    "Operations along an axis. Most arguments in numpy take (axis = 0) or (axis = 1) argument which calculates functions for each column or each row.\n",
    "\n",
    "(axis = 0) takes each column\n",
    "(axis = 1) takes each row"
   ]
  },
  {
   "cell_type": "code",
   "execution_count": null,
   "metadata": {},
   "outputs": [],
   "source": [
    "if True:\n",
    "    a = np.array([\n",
    "        [1, 2, 3],\n",
    "        [4, 5, 6],\n",
    "        [7, 8, 9]\n",
    "    ])\n",
    "    \n",
    "    print a.sum()\n",
    "    print a.sum(axis=0) # each column\n",
    "    print a.sum(axis=1) # each row"
   ]
  },
  {
   "cell_type": "code",
   "execution_count": null,
   "metadata": {},
   "outputs": [],
   "source": [
    "# Subway ridership for 5 stations on 10 different days\n",
    "ridership = np.array([\n",
    "    [   0,    0,    2,    5,    0],\n",
    "    [1478, 3877, 3674, 2328, 2539],\n",
    "    [1613, 4088, 3991, 6461, 2691],\n",
    "    [1560, 3392, 3826, 4787, 2613],\n",
    "    [1608, 4802, 3932, 4477, 2705],\n",
    "    [1576, 3933, 3909, 4979, 2685],\n",
    "    [  95,  229,  255,  496,  201],\n",
    "    [   2,    0,    1,   27,    0],\n",
    "    [1438, 3785, 3589, 4174, 2215],\n",
    "    [1342, 4043, 4009, 4665, 3033]\n",
    "])\n",
    "\n",
    "def min_and_max_riders_per_day(ridership):\n",
    "    '''\n",
    "    Fill in this function. First, for each subway station, calculate the\n",
    "    mean ridership per day. Then, out of all the subway stations, return the\n",
    "    maximum and minimum of these values. That is, find the maximum\n",
    "    mean-ridership-per-day and the minimum mean-ridership-per-day for any\n",
    "    subway station.\n",
    "    '''\n",
    "    max_daily_ridership = None     # Replace this with your code\n",
    "    min_daily_ridership = None     # Replace this with your code\n",
    "    \n",
    "    station_mean = ridership.mean(axis = 0)\n",
    "    max_daily_ridership = station_mean.max()\n",
    "    min_daily_ridership = station_mean.min()\n",
    "    \n",
    "    return (max_daily_ridership, min_daily_ridership)\n",
    "\n",
    "min_and_max_riders_per_day(ridership)"
   ]
  },
  {
   "cell_type": "markdown",
   "metadata": {},
   "source": [
    "# Calculating linear correlations"
   ]
  },
  {
   "cell_type": "markdown",
   "metadata": {},
   "source": [
    "## Pearson's R"
   ]
  },
  {
   "cell_type": "markdown",
   "metadata": {},
   "source": [
    "* Pearson's R only measures LINEAR correlations!\n",
    "* Pandas std() function automatically uses Bessel's correction so you need to add (ddof = 0) so that it's NOT used.\n",
    "1. standardize each variable. This converts both variables to a similar scale.\n",
    "2. multiply each pair of values, and take the average\n",
    "r = average (x in standard units) * (y in standard units)"
   ]
  },
  {
   "cell_type": "markdown",
   "metadata": {},
   "source": [
    "This is all done with numpys corrcoef() function. No clue how to use it though."
   ]
  },
  {
   "cell_type": "markdown",
   "metadata": {},
   "source": [
    "Note that the type of standard deviation calculated by default is different between numpy's .std() and pandas' .std() functions. By default, numpy calculates a population standard deviation, with \"ddof = 0\". On the other hand, pandas calculates a sample standard deviation, with \"ddof = 1\". If we know all of the scores, then we have a population - so to standardize using pandas, we need to set \"ddof = 0\"."
   ]
  },
  {
   "cell_type": "markdown",
   "metadata": {},
   "source": [
    "# Make random matrix"
   ]
  },
  {
   "cell_type": "code",
   "execution_count": null,
   "metadata": {},
   "outputs": [],
   "source": [
    "import numpy as np\n",
    "\n",
    "np.random.randint(9, size = (8,5,2))\n",
    "\n",
    "# or \n",
    "\n",
    "# x = np.random.randint(9, size = (3,6,3))"
   ]
  },
  {
   "cell_type": "markdown",
   "metadata": {},
   "source": [
    "# Shape"
   ]
  },
  {
   "cell_type": "code",
   "execution_count": null,
   "metadata": {},
   "outputs": [],
   "source": [
    "import numpy as np\n",
    "\n",
    "np.random.randint(9, size = (3,6,3))\n",
    "\n",
    "\n",
    "x = np.array([ [4, 0, 0],\n",
    "               [7, 1, 2],\n",
    "               [4, 7, 2],\n",
    "               [8, 7, 7],\n",
    "               [5, 6, 7],\n",
    "               [8, 8, 4]  ])\n",
    "\n",
    "x.shape\n",
    "\n",
    "# or \n",
    "\n",
    "np.shape(x)"
   ]
  },
  {
   "cell_type": "markdown",
   "metadata": {},
   "source": [
    "## Reshaping from 1D to multiD"
   ]
  },
  {
   "cell_type": "code",
   "execution_count": null,
   "metadata": {},
   "outputs": [],
   "source": [
    "array1 = np.arange(0,12)\n",
    "array1"
   ]
  },
  {
   "cell_type": "code",
   "execution_count": null,
   "metadata": {},
   "outputs": [],
   "source": [
    "# reshape to 2D \n",
    "array2 = array1.reshape(3,4)\n",
    "array2"
   ]
  },
  {
   "cell_type": "code",
   "execution_count": null,
   "metadata": {},
   "outputs": [],
   "source": [
    "# reshape from 1D to 3D\n",
    "array3 = array1.reshape(2, 2, 3)\n",
    "array3"
   ]
  }
 ],
 "metadata": {
  "kernelspec": {
   "display_name": "Python 2",
   "language": "python",
   "name": "python2"
  },
  "language_info": {
   "codemirror_mode": {
    "name": "ipython",
    "version": 2
   },
   "file_extension": ".py",
   "mimetype": "text/x-python",
   "name": "python",
   "nbconvert_exporter": "python",
   "pygments_lexer": "ipython2",
   "version": "2.7.13"
  }
 },
 "nbformat": 4,
 "nbformat_minor": 2
}
