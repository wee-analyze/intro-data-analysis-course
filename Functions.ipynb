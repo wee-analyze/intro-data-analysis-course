{
 "cells": [
  {
   "cell_type": "markdown",
   "metadata": {},
   "source": [
    "# IMPORTANT INFO ABOUT LISTS, DICTS, AND SETS\n",
    "\n",
    "A list keeps order, dict and set don't: when you care about order, therefore, you must use list (if your choice of containers is limited to these three, of course;-).\n",
    "\n",
    "dict associates with each key a value, while list and set just contain values: very different use cases, obviously.\n",
    "\n",
    "set requires items to be hashable, list doesn't: if you have non-hashable items, therefore, you cannot use set and must instead use list.\n",
    "\n",
    "set forbids duplicates, list does not: also a crucial distinction. (A \"multiset\", which maps duplicates into a different count for items present more than once, can be found in collections.Counter -- you could build one as a dict, if for some weird reason you couldn't import collections, or, in pre-2.7 Python as a collections.defaultdict(int), using the items as keys and the associated value as the count).\n",
    "\n",
    "Checking for membership of a value in a set (or dict, for keys) is blazingly fast (taking about a constant, short time), while in a list it takes time proportional to the list's length in the average and worst cases. So, if you have hashable items, don't care either way about order or duplicates, and want speedy membership checking, set is better than list."
   ]
  },
  {
   "cell_type": "markdown",
   "metadata": {},
   "source": [
    "- Dict have key and value\n",
    "- Sets only have values and must be hashable (mutable IT)"
   ]
  },
  {
   "cell_type": "code",
   "execution_count": null,
   "metadata": {
    "collapsed": true
   },
   "outputs": [],
   "source": [
    "# think about key, values, and all that stuff like this\n",
    "\n",
    "d = {'a':1, 'b':2, 'c':3}\n",
    "list(d)          # ['a', 'b', 'c']             the keys\n",
    "list(d.keys())   # ['a', 'b', 'c']             the keys\n",
    "list(d.values()) # [1, 2, 3]                   the values\n",
    "list(d.items())  # [('a',1), ('b',2), ('c',3)] a tuple of (key, value)"
   ]
  },
  {
   "cell_type": "code",
   "execution_count": 2,
   "metadata": {},
   "outputs": [],
   "source": [
    "# example (keep in mind this a dictionary and not a list of dictionaries)\n",
    "#  using .items()\n",
    "\n",
    "people = {'123456':{'first': 'Bob', 'last':'Smith'},\n",
    "          '2345343': {'first': 'Jim', 'last': 'Smith'}}\n",
    "\n",
    "ids = list()\n",
    "first_names = set()\n",
    "last_names = set()\n",
    "\n",
    "for person_id, details in people.items():\n",
    "    ids.append(person_id)\n",
    "    first_names.add(details['first'])\n",
    "    last_names.add(details['last'])"
   ]
  },
  {
   "cell_type": "code",
   "execution_count": null,
   "metadata": {
    "collapsed": true
   },
   "outputs": [],
   "source": [
    "# or\n",
    "# using .values()\n",
    "\n",
    "people = {'123456':{'first': 'Bob', 'last':'Smith'},\n",
    "          '2345343': {'first': 'Jim', 'last': 'Smith'}}\n",
    "\n",
    "first_names = set()\n",
    "last_names = set()\n",
    "\n",
    "for details in people.values():\n",
    "    first_names.add(details['first'])\n",
    "    last_names.add(details['last'])"
   ]
  },
  {
   "cell_type": "markdown",
   "metadata": {},
   "source": [
    "# Making dict groups with default dict"
   ]
  },
  {
   "cell_type": "code",
   "execution_count": null,
   "metadata": {
    "collapsed": true
   },
   "outputs": [],
   "source": [
    "# from Udacity data analyzing assigenment\n",
    "\n",
    "from collections import defaultdict\n",
    "\n",
    "# Create a dictionary of engagement grouped by student.\n",
    "# The keys are account keys, and the values are lists of engagement records.\n",
    "\n",
    "engagement_by_account = defaultdict(list)\n",
    "# up a key and there isn't anything there.\n",
    "for engagement_record in paid_engagement_in_first_week:\n",
    "    account_key = engagement_record['account_key'] ## IT. save each students account key (value) in this variable\n",
    "    engagement_by_account[account_key].append(engagement_record) # look up engagement_by_account\n",
    "    # and if it's empty then it will add the append. Looks like you also have \n",
    "    # to use a variable to look up values."
   ]
  },
  {
   "cell_type": "code",
   "execution_count": null,
   "metadata": {
    "collapsed": true
   },
   "outputs": [],
   "source": [
    "# from Udacity data analyzing assigenment\n",
    "\n",
    "# Create a dictionary with the total minutes each student spent in the classroom during the first week.\n",
    "# The keys are account keys, and the values are numbers (total minutes)\n",
    "total_minutes_by_account = {}\n",
    "for account_key, engagement_for_student in engagement_by_account.items():\n",
    "    total_minutes = 0\n",
    "    for engagement_record in engagement_for_student:\n",
    "        total_minutes += engagement_record['total_minutes_visited']\n",
    "    total_minutes_by_account[account_key] = total_minutes\n",
    "    \n",
    "total_minutes_by_account"
   ]
  },
  {
   "cell_type": "markdown",
   "metadata": {},
   "source": [
    "# Making index's with enumerate"
   ]
  },
  {
   "cell_type": "markdown",
   "metadata": {},
   "source": [
    "If you need to keep counts in lists you can use enumerate. Also, it can be used outside of loops"
   ]
  },
  {
   "cell_type": "code",
   "execution_count": 4,
   "metadata": {},
   "outputs": [
    {
     "name": "stdout",
     "output_type": "stream",
     "text": [
      "[(0, 'apple'), (1, 'banana'), (2, 'grapes'), (3, 'pear')]\n",
      "[(3, 'apple'), (4, 'banana'), (5, 'grapes'), (6, 'pear')]\n"
     ]
    }
   ],
   "source": [
    "my_list = ['apple', 'banana', 'grapes', 'pear']\n",
    "counter_list = list(enumerate(my_list))\n",
    "print(counter_list)\n",
    "\n",
    "\n",
    "my_list = ['apple', 'banana', 'grapes', 'pear']\n",
    "counter_list = list(enumerate(my_list, 3)) # you can change the start position\n",
    "print(counter_list)\n",
    "# Output: [(1, 'apple'), (2, 'banana'), (3, 'grapes'), (4, 'pear')]"
   ]
  },
  {
   "cell_type": "code",
   "execution_count": 9,
   "metadata": {},
   "outputs": [
    {
     "name": "stdout",
     "output_type": "stream",
     "text": [
      "(0, 'apple')\n",
      "(1, 'banana')\n",
      "(2, 'grapes')\n",
      "(3, 'pear')\n",
      "\n",
      "\n",
      "(9, 'apple')\n",
      "(10, 'banana')\n",
      "(11, 'grapes')\n",
      "(12, 'pear')\n"
     ]
    }
   ],
   "source": [
    "my_list = ['apple', 'banana', 'grapes', 'pear']\n",
    "for i, value in enumerate(my_list):\n",
    "    print(i, value)\n",
    "    \n",
    "print(\"\\n\")\n",
    "my_list = ['apple', 'banana', 'grapes', 'pear']\n",
    "for i, value in enumerate(my_list, 9): # can change the start position\n",
    "    print(i, value)"
   ]
  },
  {
   "cell_type": "markdown",
   "metadata": {},
   "source": [
    "# Count occurrences in a list"
   ]
  },
  {
   "cell_type": "code",
   "execution_count": 13,
   "metadata": {},
   "outputs": [
    {
     "data": {
      "text/plain": [
       "1"
      ]
     },
     "execution_count": 13,
     "metadata": {},
     "output_type": "execute_result"
    }
   ],
   "source": [
    "# specify what you want to count\n",
    "\n",
    "from collections import Counter\n",
    "\n",
    "x = [1, 2, 3, 4, 5, 6, 7]\n",
    "x.count(2)"
   ]
  },
  {
   "cell_type": "code",
   "execution_count": 14,
   "metadata": {},
   "outputs": [
    {
     "data": {
      "text/plain": [
       "Counter({'blue': 3, 'red': 2, 'yellow': 1})"
      ]
     },
     "execution_count": 14,
     "metadata": {},
     "output_type": "execute_result"
    }
   ],
   "source": [
    "# keep a count of all occurences of an element\n",
    "z = ['blue', 'red', 'blue', 'yellow', 'blue', 'red']\n",
    "\n",
    "Counter(z)"
   ]
  }
 ],
 "metadata": {
  "kernelspec": {
   "display_name": "Python 2",
   "language": "python",
   "name": "python2"
  },
  "language_info": {
   "codemirror_mode": {
    "name": "ipython",
    "version": 2
   },
   "file_extension": ".py",
   "mimetype": "text/x-python",
   "name": "python",
   "nbconvert_exporter": "python",
   "pygments_lexer": "ipython2",
   "version": "2.7.13"
  }
 },
 "nbformat": 4,
 "nbformat_minor": 2
}
