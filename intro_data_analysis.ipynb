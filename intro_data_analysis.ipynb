{
 "cells": [
  {
   "cell_type": "markdown",
   "metadata": {},
   "source": [
    "Before we get started, a couple of reminders to keep in mind when using iPython notebooks:\n",
    "\n",
    "- Remember that you can see from the left side of a code cell when it was last run if there is a number within the brackets.\n",
    "- When you start a new notebook session, make sure you run all of the cells up to the point where you last left off. Even if the output is still visible from when you ran the cells in your previous session, the kernel starts in a fresh state so you'll need to reload the data, etc. on a new session.\n",
    "- The previous point is useful to keep in mind if your answers do not match what is expected in the lesson's quizzes. Try reloading the data and run all of the processing steps one by one in order to make sure that you are working with the same variables and data that are at each quiz stage.\n",
    "\n",
    "\n",
    "## Load Data from CSVs"
   ]
  },
  {
   "cell_type": "code",
   "execution_count": null,
   "metadata": {},
   "outputs": [],
   "source": [
    "import unicodecsv\n",
    "\n",
    "## Longer version of code (replaced with shorter, equivalent version below)\n",
    "\n",
    "# enrollments = []\n",
    "# f = open('enrollments.csv', 'rb')\n",
    "# reader = unicodecsv.DictReader(f)\n",
    "# for row in reader:\n",
    "#     enrollments.append(row)\n",
    "# f.close()\n",
    "\n",
    "with open('enrollments.csv', 'rb') as f:\n",
    "    reader = unicodecsv.DictReader(f) # make into a dictionary IT\n",
    "    enrollments = list(reader) #  now you make a list of dictionaries IT\n",
    "    \n",
    "print(enrollments[0])"
   ]
  },
  {
   "cell_type": "code",
   "execution_count": null,
   "metadata": {
    "scrolled": true
   },
   "outputs": [],
   "source": [
    "#####################################\n",
    "#                 1                 #\n",
    "#####################################\n",
    "\n",
    "## Read in the data from daily_engagement.csv and project_submissions.csv \n",
    "## and store the results in the below variables.\n",
    "## Then look at the first row of each table.\n",
    "\n",
    "def read_data(file):\n",
    "    with open(file, \"rb\") as f:\n",
    "        reader = unicodecsv.DictReader(f)\n",
    "        return list(reader)\n",
    "\n",
    "daily_engagement = read_data(\"daily_engagement.csv\")\n",
    "project_submissions = read_data(\"project_submissions.csv\")\n",
    "\n",
    "print(daily_engagement[0])\n",
    "print(project_submissions[0])"
   ]
  },
  {
   "cell_type": "markdown",
   "metadata": {},
   "source": [
    "## Fixing Data Types"
   ]
  },
  {
   "cell_type": "code",
   "execution_count": null,
   "metadata": {},
   "outputs": [],
   "source": [
    "from datetime import datetime as dt\n",
    "\n",
    "# Takes a date as a string, and returns a Python datetime object. \n",
    "# If there is no date given, returns None\n",
    "def parse_date(date):\n",
    "    if date == '':\n",
    "        return None\n",
    "    else:\n",
    "        return dt.strptime(date, '%Y-%m-%d')\n",
    "    \n",
    "# Takes a string which is either an empty string or represents an integer,\n",
    "# and returns an int or None.\n",
    "def parse_maybe_int(i):\n",
    "    if i == '':\n",
    "        return None\n",
    "    else:\n",
    "        return int(i)\n",
    "\n",
    "# Clean up the data types in the enrollments table\n",
    "for enrollment in enrollments:\n",
    "    enrollment['cancel_date'] = parse_date(enrollment['cancel_date'])\n",
    "    enrollment['days_to_cancel'] = parse_maybe_int(enrollment['days_to_cancel'])\n",
    "    enrollment['is_canceled'] = enrollment['is_canceled'] == 'True' # returns boolean. If string is then it retuns\n",
    "    # a boolean of True. If the string is NOT equal then it returns a boolean of False\n",
    "    enrollment['is_udacity'] = enrollment['is_udacity'] == 'True'\n",
    "    enrollment['join_date'] = parse_date(enrollment['join_date'])\n",
    "    \n",
    "enrollments[0]"
   ]
  },
  {
   "cell_type": "code",
   "execution_count": null,
   "metadata": {},
   "outputs": [],
   "source": [
    "# Clean up the data types in the engagement table\n",
    "for engagement_record in daily_engagement:\n",
    "    engagement_record['lessons_completed'] = int(float(engagement_record['lessons_completed']))\n",
    "    engagement_record['num_courses_visited'] = int(float(engagement_record['num_courses_visited']))\n",
    "    engagement_record['projects_completed'] = int(float(engagement_record['projects_completed']))\n",
    "    engagement_record['total_minutes_visited'] = float(engagement_record['total_minutes_visited'])\n",
    "    engagement_record['utc_date'] = parse_date(engagement_record['utc_date'])\n",
    "    \n",
    "daily_engagement[0]"
   ]
  },
  {
   "cell_type": "code",
   "execution_count": null,
   "metadata": {},
   "outputs": [],
   "source": [
    "# Clean up the data types in the submissions table\n",
    "for submission in project_submissions:\n",
    "    submission['completion_date'] = parse_date(submission['completion_date'])\n",
    "    submission['creation_date'] = parse_date(submission['creation_date'])\n",
    "\n",
    "project_submissions[0]"
   ]
  },
  {
   "cell_type": "markdown",
   "metadata": {},
   "source": [
    "Note when running the above cells that we are actively changing the contents of our data variables. If you try to run these cells multiple times in the same session, an error will occur.\n",
    "\n",
    "## Investigating the Data"
   ]
  },
  {
   "cell_type": "markdown",
   "metadata": {},
   "source": [
    "## Problems in the Data"
   ]
  },
  {
   "cell_type": "code",
   "execution_count": null,
   "metadata": {},
   "outputs": [],
   "source": [
    "#####################################\n",
    "#                 3                 #\n",
    "#####################################\n",
    "\n",
    "## Rename the \"acct\" column in the daily_engagement table to \"account_key\".\n",
    "\n",
    "for engagement_point in daily_engagement:\n",
    "    engagement_point['account_key'] = engagement_point['acct']\n",
    "    del[engagement_point['acct']]\n",
    "    \n",
    "daily_engagement[0]"
   ]
  },
  {
   "cell_type": "code",
   "execution_count": null,
   "metadata": {
    "scrolled": true
   },
   "outputs": [],
   "source": [
    "#####################################\n",
    "#                 2                 #\n",
    "#####################################\n",
    "\n",
    "## Find the total number of rows and the number of unique students (account keys)\n",
    "## in each table.\n",
    "\n",
    "def unique_student(file):\n",
    "    unique_list = set()\n",
    "    for student in file:\n",
    "        unique_list.add(student['account_key'])\n",
    "    return unique_list\n",
    "\n",
    "print(len(enrollments))\n",
    "print(len(daily_engagement))\n",
    "print(len(project_submissions))"
   ]
  },
  {
   "cell_type": "code",
   "execution_count": null,
   "metadata": {},
   "outputs": [],
   "source": [
    "unique_enrollments = unique_student(enrollments)\n",
    "unique_engagement = unique_student(daily_engagement)\n",
    "unique_project_submissions = unique_student(project_submissions)\n",
    "\n",
    "print(len(unique_enrollments))\n",
    "print(len(unique_engagement))\n",
    "print(len(unique_project_submissions))"
   ]
  },
  {
   "cell_type": "markdown",
   "metadata": {},
   "source": [
    "## Missing Engagement Records"
   ]
  },
  {
   "cell_type": "code",
   "execution_count": null,
   "metadata": {},
   "outputs": [],
   "source": [
    "#####################################\n",
    "#                 4                 #\n",
    "#####################################\n",
    "\n",
    "## Find any one student enrollments where the student is missing from the daily engagement table.\n",
    "## Output that enrollment.\n",
    "\n",
    "\n",
    "for student in enrollments:\n",
    "    account = student[\"account_key\"]\n",
    "    if account not in unique_engagement:\n",
    "        print student\n",
    "        break # terminates current loop so you get only one student"
   ]
  },
  {
   "cell_type": "code",
   "execution_count": null,
   "metadata": {},
   "outputs": [],
   "source": [
    "### List comprehension of above code and used \"next\" to print out only the first find\n",
    "## \"next\" needed a second argument just in case the list was empty so we don't get some type of \n",
    "## error. So, we put \"None\" but you could also write whatever you want as the default return.\n",
    "\n",
    "account = next((student for student in enrollments if student[\"account_key\"] not in unique_engagement),\n",
    "               \"empty list\")  # if list returned is empty nothing will get returned in this case\n",
    "account"
   ]
  },
  {
   "cell_type": "markdown",
   "metadata": {},
   "source": [
    "## Checking for More Problem Records"
   ]
  },
  {
   "cell_type": "code",
   "execution_count": null,
   "metadata": {},
   "outputs": [],
   "source": [
    "#####################################\n",
    "#                 5                 #\n",
    "#####################################\n",
    "\n",
    "## Find the number of surprising data points (enrollments missing from\n",
    "## the engagement table) that remain, if any.\n",
    "\n",
    "# if you looked thouroughly you would see that some people joined and cancelled on the same day \\\n",
    "# which mabye isn't worth having.\n",
    "\n",
    "count = 0\n",
    "for student in enrollments:\n",
    "    account = student[\"account_key\"]\n",
    "    if account not in unique_engagement and student[\"join_date\"] != student[\"cancel_date\"]:\n",
    "        count += 1\n",
    "        print(student)\n",
    "print count\n",
    "\n",
    "#or\n",
    "\n",
    "count = 0\n",
    "for student in enrollments:\n",
    "    account = student[\"account_key\"]\n",
    "    if (account not in unique_engagement and \n",
    "    student[\"join_date\"] != student[\"cancel_date\"]):\n",
    "            count += 1\n",
    "    \n",
    "print count\n",
    "\n"
   ]
  },
  {
   "cell_type": "markdown",
   "metadata": {},
   "source": [
    "## Tracking Down the Remaining Problems"
   ]
  },
  {
   "cell_type": "code",
   "execution_count": null,
   "metadata": {},
   "outputs": [],
   "source": [
    "# Create a set of the account keys for all Udacity test accounts\n",
    "udacity_test_accounts = set()\n",
    "for student in enrollments:\n",
    "    if student['is_udacity'] == True: # I guess you don't need to put \"True\" because it's assumed\n",
    "        udacity_test_accounts.add(student['account_key'])\n",
    "len(udacity_test_accounts)"
   ]
  },
  {
   "cell_type": "code",
   "execution_count": null,
   "metadata": {
    "collapsed": true
   },
   "outputs": [],
   "source": [
    "############## list comprehension of below\n",
    "def remove_udacity_accounts(data):\n",
    "    real_udacity_data = [data_point for data_point in data if data_point['account_key'] not in udacity_test_accounts]\n",
    "    return real_udacity_data   "
   ]
  },
  {
   "cell_type": "code",
   "execution_count": null,
   "metadata": {
    "collapsed": true
   },
   "outputs": [],
   "source": [
    "# Given some data with an account_key field, removes any records corresponding to Udacity test accounts\n",
    "def remove_udacity_accounts(data):\n",
    "    real_udacity_data = []\n",
    "    for data_point in data:\n",
    "        if data_point['account_key'] not in udacity_test_accounts:\n",
    "            real_udacity_data.append(data_point)\n",
    "    return real_udacity_data"
   ]
  },
  {
   "cell_type": "code",
   "execution_count": null,
   "metadata": {},
   "outputs": [],
   "source": [
    "# Remove Udacity test accounts from all three tables\n",
    "real_udacity_enrollments = remove_udacity_accounts(enrollments)\n",
    "real_udacity_engagement = remove_udacity_accounts(daily_engagement)\n",
    "real_udacity_submissions = remove_udacity_accounts(project_submissions)\n",
    "\n",
    "print len(real_udacity_enrollments)\n",
    "print len(real_udacity_engagement)\n",
    "print len(real_udacity_submissions)\n",
    "print (real_udacity_enrollments[0])"
   ]
  },
  {
   "cell_type": "markdown",
   "metadata": {},
   "source": [
    "## Refining the Question"
   ]
  },
  {
   "cell_type": "code",
   "execution_count": null,
   "metadata": {},
   "outputs": [],
   "source": [
    "#####################################\n",
    "#                 6                 #\n",
    "#####################################\n",
    "\n",
    "## Create a dictionary named paid_students containing all students who either\n",
    "## haven't canceled yet or who remained enrolled for more than 7 days. The keys\n",
    "## should be account keys, and the values should be the date the student enrolled.\n",
    "\n",
    "# set comprehension of code below\n",
    "paid_students = {student['account_key']: student['join_date'] for student in real_udacity_enrollments \n",
    "                 if not student[\"is_canceled\"] or student[\"days_to_cancel\"] > 7}\n",
    "paid_students"
   ]
  },
  {
   "cell_type": "code",
   "execution_count": null,
   "metadata": {},
   "outputs": [],
   "source": [
    "paid_students = {}\n",
    "for student in real_udacity_enrollments:\n",
    "    if not student[\"is_canceled\"] or student[\"days_to_cancel\"] > 7:\n",
    "        account_key = student[\"account_key\"]\n",
    "        enrollment_date = student[\"join_date\"]\n",
    "        paid_students[account_key] = enrollment_date\n",
    "    \n",
    "print(paid_students)"
   ]
  },
  {
   "cell_type": "markdown",
   "metadata": {},
   "source": [
    "## Getting Data from First Week"
   ]
  },
  {
   "cell_type": "code",
   "execution_count": null,
   "metadata": {
    "collapsed": true
   },
   "outputs": [],
   "source": [
    "# Takes a student's join date and the date of a specific engagement record,\n",
    "# and returns True if that engagement record happened within one week\n",
    "# of the student joining.\n",
    "def within_one_week(join_date, engagement_date):\n",
    "    time_delta = engagement_date - join_date\n",
    "    return time_delta.days < 7 and time_delta.days >= 0"
   ]
  },
  {
   "cell_type": "code",
   "execution_count": null,
   "metadata": {},
   "outputs": [],
   "source": [
    "# list comprehension of code below\n",
    "def remove_free_trials(data):\n",
    "    new_data = [data_point for data_point in data if data_point['account_key'] in paid_students]\n",
    "    return new_data\n",
    "\n",
    "paid_enrollments = remove_free_trials(real_udacity_enrollments)  \n",
    "paid_engagement = remove_free_trials(real_udacity_engagement)\n",
    "paid_submissions = remove_free_trials(real_udacity_submissions)\n",
    "\n",
    "print len(paid_enrollments)\n",
    "print len(paid_engagement)\n",
    "print len(paid_submissions)\n",
    "\n",
    "print (paid_engagement[4])"
   ]
  },
  {
   "cell_type": "code",
   "execution_count": null,
   "metadata": {},
   "outputs": [],
   "source": [
    "def remove_free_trials(data):\n",
    "    new_data = []\n",
    "    for data_point in data:\n",
    "        if data_point[\"account_key\"] in paid_students:\n",
    "            new_data.append(data_point)\n",
    "    return new_data\n",
    "        \n",
    "paid_enrollments = remove_free_trials(real_udacity_enrollments)  \n",
    "paid_engagement = remove_free_trials(real_udacity_engagement)\n",
    "paid_submissions = remove_free_trials(real_udacity_submissions)\n",
    "\n",
    "print len(paid_enrollments)\n",
    "print len(paid_engagement)\n",
    "print len(paid_submissions)\n",
    "\n",
    "print (paid_engagement[4])"
   ]
  },
  {
   "cell_type": "code",
   "execution_count": null,
   "metadata": {},
   "outputs": [],
   "source": [
    "for engagement_record in paid_engagement:\n",
    "    if engagement_record[\"num_courses_visited\"] > 0:\n",
    "        engagement_record[\"has_visited\"] = 1\n",
    "    else:\n",
    "        engagement_record[\"has_visited\"] = 0\n",
    "        \n",
    "print paid_engagement[:3]"
   ]
  },
  {
   "cell_type": "code",
   "execution_count": null,
   "metadata": {},
   "outputs": [],
   "source": [
    "#####################################\n",
    "#                 7                 #\n",
    "#####################################\n",
    "\n",
    "## Create a list of rows from the engagement table including only rows where\n",
    "## the student is one of the paid students you just found, and the date is within\n",
    "## one week of the student's join date.\n",
    "\n",
    "paid_engagement_in_first_week = []\n",
    "\n",
    "for paying_student in paid_engagement:\n",
    "    account_key = paying_student[\"account_key\"] #saved account key in this variable\n",
    "    join_date = paid_students[account_key] # no clue why we did this. Supposedly this let you look up the join date in the dictionary you made above\n",
    "    engagement_date = paying_student[\"utc_date\"]\n",
    "    \n",
    "    \n",
    "    if within_one_week(join_date, engagement_date):\n",
    "        paid_engagement_in_first_week.append(paying_student)\n",
    "\n",
    "len(paid_engagement_in_first_week)\n",
    "print(paid_engagement_in_first_week[:3])"
   ]
  },
  {
   "cell_type": "markdown",
   "metadata": {},
   "source": [
    "## Exploring Student Engagement"
   ]
  },
  {
   "cell_type": "code",
   "execution_count": null,
   "metadata": {},
   "outputs": [],
   "source": [
    "from collections import defaultdict\n",
    "\n",
    "# Create a dictionary of engagement grouped by student.\n",
    "# The keys are account keys, and the values are lists of engagement records.\n",
    "\n",
    "engagement_by_account = defaultdict(list) #defaultdict makes empty lists if you look\n",
    "# up a key and there isn't anything there.\n",
    "for engagement_record in paid_engagement_in_first_week:\n",
    "    account_key = engagement_record['account_key'] ## IT. save each students account key (value) in this variable\n",
    "    engagement_by_account[account_key].append(engagement_record) # look up engagement_by_account\n",
    "    # and if it's empty then it will add the append. Looks like you also have \n",
    "    # to use a variable to look up values.\n",
    "\n",
    "engagement_by_account"
   ]
  },
  {
   "cell_type": "code",
   "execution_count": null,
   "metadata": {},
   "outputs": [],
   "source": [
    "# Create a dictionary with the total minutes each student spent in the classroom during the first week.\n",
    "# The keys are account keys, and the values are numbers (total minutes)\n",
    "total_minutes_by_account = {}\n",
    "for account_key, engagement_for_student in engagement_by_account.items():\n",
    "    total_minutes = 0\n",
    "    for engagement_record in engagement_for_student:\n",
    "        total_minutes += engagement_record['total_minutes_visited']\n",
    "    total_minutes_by_account[account_key] = total_minutes\n",
    "    \n",
    "total_minutes_by_account"
   ]
  },
  {
   "cell_type": "code",
   "execution_count": null,
   "metadata": {},
   "outputs": [],
   "source": [
    "import numpy as np\n",
    "\n",
    "# Summarize the data about minutes spent in the classroom\n",
    "total_minutes = total_minutes_by_account.values()\n",
    "print 'Mean:', np.mean(total_minutes)\n",
    "print 'Standard deviation:', np.std(total_minutes)\n",
    "print 'Minimum:', np.min(total_minutes)\n",
    "print 'Maximum:', np.max(total_minutes)    "
   ]
  },
  {
   "cell_type": "code",
   "execution_count": null,
   "metadata": {},
   "outputs": [],
   "source": [
    "student_with_max_minutes = None\n",
    "max_minutes = 0\n",
    "\n",
    "for student, total_minutes in total_minutes_by_account.items():\n",
    "    if total_minutes > max_minutes:\n",
    "        max_minutes = total_minutes\n",
    "        student_with_max_minutes = student # the object ends up becoming the students account key\n",
    "        \n",
    "max_minutes     "
   ]
  },
  {
   "cell_type": "code",
   "execution_count": null,
   "metadata": {},
   "outputs": [],
   "source": [
    "for engagement_record in paid_engagement_in_first_week:\n",
    "    if engagement_record[\"account_key\"] == student_with_max_minutes:\n",
    "        print engagement_record"
   ]
  },
  {
   "cell_type": "markdown",
   "metadata": {},
   "source": [
    "## Do the same for lessons completed"
   ]
  },
  {
   "cell_type": "code",
   "execution_count": null,
   "metadata": {
    "collapsed": true
   },
   "outputs": [],
   "source": [
    "from collections import defaultdict\n",
    "\n",
    "def make_groups(data, key_name):\n",
    "    groups_made = defaultdict(list)\n",
    "    for data_point in data:\n",
    "        key = data_point[key_name]\n",
    "        groups_made[key].append(data_point)\n",
    "    return groups_made\n",
    "        \n",
    "engagement_by_account = make_groups(paid_engagement_in_first_week, \"account_key\")"
   ]
  },
  {
   "cell_type": "code",
   "execution_count": null,
   "metadata": {
    "collapsed": true
   },
   "outputs": [],
   "source": [
    "def sum_grouped_items(grouped_data, field_name):\n",
    "    summed_data = {}\n",
    "    \n",
    "    for key, data_points in grouped_data.items():\n",
    "        total = 0\n",
    "        for data_point in data_points:\n",
    "            total += data_point[field_name]\n",
    "            summed_data[key] = total\n",
    "    \n",
    "    return summed_data\n",
    "\n",
    "total_minutes_by_account = sum_grouped_items(engagement_by_account, \"total_minutes_visited\")"
   ]
  },
  {
   "cell_type": "code",
   "execution_count": null,
   "metadata": {},
   "outputs": [],
   "source": [
    "import numpy as np\n",
    "\n",
    "# Summarize the data lessons completed in the classroom\n",
    "def describe_data(data):\n",
    "    print 'Mean:', np.mean(data)\n",
    "    print 'Standard deviation:', np.std(data)\n",
    "    print 'Minimum:', np.min(data)\n",
    "    print 'Maximum:', np.max(data) \n",
    "\n",
    "total_minutes = total_minutes_by_account.values()\n",
    "describe_data(total_minutes)"
   ]
  },
  {
   "cell_type": "code",
   "execution_count": null,
   "metadata": {},
   "outputs": [],
   "source": [
    "# above you checked to see that the answers were similar to your answers for total_minutes_visited. Now you\n",
    "# run these functions again except for lessons completed.\n",
    "lessons_completed_by_account = sum_grouped_items(engagement_by_account, \"lessons_completed\")\n",
    "describe_data(lessons_completed_by_account.values()) # need to take values first"
   ]
  },
  {
   "cell_type": "markdown",
   "metadata": {},
   "source": [
    "## Debugging Data Analysis Code"
   ]
  },
  {
   "cell_type": "code",
   "execution_count": null,
   "metadata": {
    "collapsed": true
   },
   "outputs": [],
   "source": [
    "#####################################\n",
    "#                 8                 #\n",
    "#####################################\n",
    "\n",
    "## Go through a similar process as before to see if there is a problem.\n",
    "## Locate at least one surprising piece of data, output it, and take a look at it."
   ]
  },
  {
   "cell_type": "markdown",
   "metadata": {},
   "source": [
    "## Lessons Completed in First Week"
   ]
  },
  {
   "cell_type": "code",
   "execution_count": null,
   "metadata": {
    "collapsed": true
   },
   "outputs": [],
   "source": [
    "#####################################\n",
    "#                 9                 #\n",
    "#####################################\n",
    "\n",
    "## Adapt the code above to find the mean, standard deviation, minimum, and maximum for\n",
    "## the number of lessons completed by each student during the first week. Try creating\n",
    "## one or more functions to re-use the code above.\n",
    "\n"
   ]
  },
  {
   "cell_type": "markdown",
   "metadata": {},
   "source": [
    "## Number of Visits in First Week"
   ]
  },
  {
   "cell_type": "code",
   "execution_count": null,
   "metadata": {},
   "outputs": [],
   "source": [
    "######################################\n",
    "#                 10                 #\n",
    "######################################\n",
    "\n",
    "## Find the mean, standard deviation, minimum, and maximum for the number of\n",
    "## days each student visits the classroom during the first week.\n",
    "\n",
    "# use your sum_grouped_items function above\n",
    "days_visited_by_account = sum_grouped_items(engagement_by_account, \"has_visited\")\n",
    "\n",
    "# change to .values and then use your describe function above \n",
    "describe_data(days_visited_by_account.values())"
   ]
  },
  {
   "cell_type": "markdown",
   "metadata": {},
   "source": [
    "## Splitting out Passing Students"
   ]
  },
  {
   "cell_type": "code",
   "execution_count": null,
   "metadata": {},
   "outputs": [],
   "source": [
    "######################################\n",
    "#                 11                 #\n",
    "######################################\n",
    "\n",
    "## Create two lists of engagement data for paid students in the first week.\n",
    "## The first list should contain data for students who eventually pass the\n",
    "## subway project, and the second list should contain data for students\n",
    "## who do not.\n",
    "\n",
    "unique_passing_engagement = set() # sets are unique\n",
    "\n",
    "subway_project_lesson_keys = ['746169184', '3176718735']\n",
    "\n",
    "for student in paid_submissions:\n",
    "    \n",
    "    project_number = student[\"lesson_key\"]\n",
    "    grade = student[\"assigned_rating\"]\n",
    "    \n",
    "    if project_number in subway_project_lesson_keys and (grade == \"PASSED\" or grade == \"DISCTINCTION\"):\n",
    "        unique_passing_engagement.add(student[\"account_key\"])\n",
    "\n",
    "unique_passing_engagement"
   ]
  },
  {
   "cell_type": "code",
   "execution_count": null,
   "metadata": {},
   "outputs": [],
   "source": [
    "paid_engagement_in_first_week[500]"
   ]
  },
  {
   "cell_type": "code",
   "execution_count": null,
   "metadata": {},
   "outputs": [],
   "source": [
    "paid_submissions[0]"
   ]
  },
  {
   "cell_type": "code",
   "execution_count": null,
   "metadata": {},
   "outputs": [],
   "source": [
    "# THIS IS WRONG. you can't start looping through the new set and try to match to the list\n",
    "# You need to do the opposite by looping through the list and seeing if it matches in the unique set.\n",
    "# think about it. It you did it by looping through the smaller set then your new list can't have all the rows from the\n",
    "# bigger list\n",
    "\n",
    "passing_students = []\n",
    "failing_students = []\n",
    "\n",
    "for account in unique_passing_engagement:\n",
    "    if student in paid_engagement_in_first_week:\n",
    "        passing_students.append(student)\n",
    "    else:\n",
    "        failing_students.append(student)\n",
    "\n",
    "print(len(passing_students))\n",
    "print(len(failing_students))"
   ]
  },
  {
   "cell_type": "code",
   "execution_count": null,
   "metadata": {},
   "outputs": [],
   "source": [
    "# right answer.\n",
    "\n",
    "passing_students = []\n",
    "failing_students = []\n",
    "\n",
    "for student in paid_engagement_in_first_week:\n",
    "    if student[\"account_key\"] in unique_passing_engagement:\n",
    "        passing_students.append(student)\n",
    "    else:\n",
    "        failing_students.append(student)\n",
    "\n",
    "print(len(passing_students))\n",
    "print(len(failing_students))"
   ]
  },
  {
   "cell_type": "markdown",
   "metadata": {},
   "source": [
    "## Comparing the Two Student Groups"
   ]
  },
  {
   "cell_type": "code",
   "execution_count": null,
   "metadata": {},
   "outputs": [],
   "source": [
    "######################################\n",
    "#                 12                 #\n",
    "######################################\n",
    "\n",
    "## Compute some metrics you're interested in and see how they differ for\n",
    "## students who pass the subway project vs. students who don't. A good\n",
    "## starting point would be the metrics we looked at earlier (minutes spent\n",
    "## in the classroom, lessons completed, and days visited).\n",
    "\n",
    "failing_students[:50]"
   ]
  },
  {
   "cell_type": "code",
   "execution_count": null,
   "metadata": {},
   "outputs": [],
   "source": [
    "# use the functions you made for lessons completed section\n",
    "# def make_groups(data, key_name)\n",
    "\n",
    "grouping_accounts_failing = make_groups(failing_students, \"account_key\")\n",
    "grouping_accounts_passing = make_groups(passing_students, \"account_key\")\n",
    "\n",
    "grouping_accounts_passing"
   ]
  },
  {
   "cell_type": "code",
   "execution_count": null,
   "metadata": {},
   "outputs": [],
   "source": [
    "# def make_groups(data, key_name)\n",
    "grouping_minutes_visited_failing = sum_grouped_items(grouping_accounts_failing, \"total_minutes_visited\")\n",
    "grouping_minutes_visited_passing = sum_grouped_items(grouping_accounts_passing, \"total_minutes_visited\")\n",
    "\n",
    "grouping_minutes_visited_passing"
   ]
  },
  {
   "cell_type": "code",
   "execution_count": null,
   "metadata": {},
   "outputs": [],
   "source": [
    "# def describe_data(data):\n",
    "    # print 'Mean:', np.mean(data)\n",
    "    # print 'Standard deviation:', np.std(data)\n",
    "    # print 'Minimum:', np.min(data)\n",
    "    # print 'Maximum:', np.max(data)\n",
    "# since your using numpy you need to convert these minutes using .values\n",
    "\n",
    "\n",
    "describe_data(grouping_minutes_visited_failing.values())\n",
    "print(\"\")\n",
    "describe_data(grouping_minutes_visited_passing.values())"
   ]
  },
  {
   "cell_type": "markdown",
   "metadata": {},
   "source": [
    "## Making Histograms"
   ]
  },
  {
   "cell_type": "code",
   "execution_count": null,
   "metadata": {},
   "outputs": [],
   "source": [
    "######################################\n",
    "#                 13                 #\n",
    "######################################\n",
    "\n",
    "## Make histograms of the three metrics we looked at earlier for both\n",
    "## students who passed the subway project and students who didn't. You\n",
    "## might also want to make histograms of any other metrics you examined.\n",
    "\n",
    "%matplotlib inline\n",
    "import matplotlib.pyplot as plt\n",
    "converting_passing = grouping_minutes_visited_passing.values()\n",
    "\n",
    "plt.hist(converting_passing)\n",
    "\n",
    "#plt.hist(np.mean(converting_passing))\n",
    "#plt.hist(np.std(converting_passing))\n",
    "#plt.hist(np.min(converting_passing))\n",
    "#plt.hist(np.max(converting_passing))\n",
    "\n",
    "converting_failing = grouping_minutes_visited_failing.values()\n",
    "\n",
    "#plt.hist(np.mean(converting_failing))\n",
    "#plt.hist(np.std(converting_failing))\n",
    "#plt.hist(np.min(converting_failing))\n",
    "#plt.hist(np.max(converting_failing))"
   ]
  },
  {
   "cell_type": "code",
   "execution_count": null,
   "metadata": {},
   "outputs": [],
   "source": [
    "%matplotlib inline\n",
    "plt.hist(converting_failing)"
   ]
  },
  {
   "cell_type": "code",
   "execution_count": null,
   "metadata": {
    "collapsed": true
   },
   "outputs": [],
   "source": [
    "# comparing by number of courses visited. We already grouped them by account number above\n",
    "\n",
    "grouping_courses_visited_failing = sum_grouped_items(grouping_accounts_failing, \"num_courses_visited\")\n",
    "grouping_courses_visited_passing = sum_grouped_items(grouping_accounts_passing, \"num_courses_visited\")"
   ]
  },
  {
   "cell_type": "code",
   "execution_count": null,
   "metadata": {},
   "outputs": [],
   "source": [
    "#failing students\n",
    "\n",
    "import seaborn as sns\n",
    "plt.hist(grouping_courses_visited_failing.values(), bins = 100)\n",
    "plt.xlabel(\"Number of courses visited\")\n",
    "plt.title('give a title of what this is about')"
   ]
  },
  {
   "cell_type": "code",
   "execution_count": null,
   "metadata": {},
   "outputs": [],
   "source": [
    "import seaborn as sns\n",
    "plt.hist(grouping_courses_visited_passing.values(), bins = 20)"
   ]
  },
  {
   "cell_type": "markdown",
   "metadata": {},
   "source": [
    "## Improving Plots and Sharing Findings"
   ]
  },
  {
   "cell_type": "code",
   "execution_count": null,
   "metadata": {},
   "outputs": [],
   "source": [
    "######################################\n",
    "#                 14                 #\n",
    "######################################\n",
    "\n",
    "## Make a more polished version of at least one of your visualizations\n",
    "## from earlier. Try importing the seaborn library to make the visualization\n",
    "## look better, adding axis labels and a title, and changing one or more\n",
    "## arguments to the hist() function.\n",
    "\n",
    "import seaborn as sns\n",
    "plt.hist(grouping_courses_visited_failing.values(), bins = 100)\n",
    "plt.xlabel(\"Number of courses visited\")\n",
    "plt.title('give a title of what this is about')"
   ]
  }
 ],
 "metadata": {
  "kernelspec": {
   "display_name": "Python 2",
   "language": "python",
   "name": "python2"
  },
  "language_info": {
   "codemirror_mode": {
    "name": "ipython",
    "version": 2
   },
   "file_extension": ".py",
   "mimetype": "text/x-python",
   "name": "python",
   "nbconvert_exporter": "python",
   "pygments_lexer": "ipython2",
   "version": "2.7.13"
  }
 },
 "nbformat": 4,
 "nbformat_minor": 1
}
